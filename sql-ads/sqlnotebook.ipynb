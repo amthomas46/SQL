{
    "metadata": {
        "kernelspec": {
            "name": "SQL",
            "display_name": "SQL",
            "language": "sql"
        },
        "language_info": {
            "name": "sql",
            "version": ""
        }
    },
    "nbformat_minor": 2,
    "nbformat": 4,
    "cells": [
        {
            "cell_type": "markdown",
            "source": [
                "# SQL Notebook\n",
                "\n",
                "Here I can combine runnable code cells and accompanying test. I can do lots of things here, like save the results, schedule a run, and more."
            ],
            "metadata": {
                "azdata_cell_guid": "2429cfc3-4a96-4ea6-a618-94850e62a4c3"
            },
            "attachments": {}
        },
        {
            "cell_type": "code",
            "source": [
                "-- get first 10 rows from the saleslt.customer table\r\n",
                "SELECT TOP 10 * FROM saleslt.customer;\r\n",
                "\r\n",
                ""
            ],
            "metadata": {
                "azdata_cell_guid": "2ace10e4-b50a-4849-872f-d8fa17805634",
                "language": "sql"
            },
            "outputs": [
                {
                    "output_type": "display_data",
                    "data": {
                        "text/html": "(10 rows affected)"
                    },
                    "metadata": {}
                },
                {
                    "output_type": "display_data",
                    "data": {
                        "text/html": "Total execution time: 00:00:00.194"
                    },
                    "metadata": {}
                },
                {
                    "output_type": "execute_result",
                    "metadata": {},
                    "execution_count": 1,
                    "data": {
                        "application/vnd.dataresource+json": {
                            "schema": {
                                "fields": [
                                    {
                                        "name": "CustomerID"
                                    },
                                    {
                                        "name": "NameStyle"
                                    },
                                    {
                                        "name": "Title"
                                    },
                                    {
                                        "name": "FirstName"
                                    },
                                    {
                                        "name": "MiddleName"
                                    },
                                    {
                                        "name": "LastName"
                                    },
                                    {
                                        "name": "Suffix"
                                    },
                                    {
                                        "name": "CompanyName"
                                    },
                                    {
                                        "name": "SalesPerson"
                                    },
                                    {
                                        "name": "EmailAddress"
                                    },
                                    {
                                        "name": "Phone"
                                    },
                                    {
                                        "name": "PasswordHash"
                                    },
                                    {
                                        "name": "PasswordSalt"
                                    },
                                    {
                                        "name": "rowguid"
                                    },
                                    {
                                        "name": "ModifiedDate"
                                    }
                                ]
                            },
                            "data": [
                                {
                                    "CustomerID": "1",
                                    "NameStyle": "0",
                                    "Title": "Mr.",
                                    "FirstName": "Orlando",
                                    "MiddleName": "N.",
                                    "LastName": "Gee",
                                    "Suffix": "NULL",
                                    "CompanyName": "A Bike Store",
                                    "SalesPerson": "adventure-works\\pamela0",
                                    "EmailAddress": "orlando0@adventure-works.com",
                                    "Phone": "245-555-0173",
                                    "PasswordHash": "L/Rlwxzp4w7RWmEgXX+/A7cXaePEPcp+KwQhl2fJL7w=",
                                    "PasswordSalt": "1KjXYs4=",
                                    "rowguid": "3f5ae95e-b87d-4aed-95b4-c3797afcb74f",
                                    "ModifiedDate": "2005-08-01 00:00:00.000"
                                },
                                {
                                    "CustomerID": "2",
                                    "NameStyle": "0",
                                    "Title": "Mr.",
                                    "FirstName": "Keith",
                                    "MiddleName": "NULL",
                                    "LastName": "Harris",
                                    "Suffix": "NULL",
                                    "CompanyName": "Progressive Sports",
                                    "SalesPerson": "adventure-works\\david8",
                                    "EmailAddress": "keith0@adventure-works.com",
                                    "Phone": "170-555-0127",
                                    "PasswordHash": "YPdtRdvqeAhj6wyxEsFdshBDNXxkCXn+CRgbvJItknw=",
                                    "PasswordSalt": "fs1ZGhY=",
                                    "rowguid": "e552f657-a9af-4a7d-a645-c429d6e02491",
                                    "ModifiedDate": "2006-08-01 00:00:00.000"
                                },
                                {
                                    "CustomerID": "3",
                                    "NameStyle": "0",
                                    "Title": "Ms.",
                                    "FirstName": "Donna",
                                    "MiddleName": "F.",
                                    "LastName": "Carreras",
                                    "Suffix": "NULL",
                                    "CompanyName": "Advanced Bike Components",
                                    "SalesPerson": "adventure-works\\jillian0",
                                    "EmailAddress": "donna0@adventure-works.com",
                                    "Phone": "279-555-0130",
                                    "PasswordHash": "LNoK27abGQo48gGue3EBV/UrlYSToV0/s87dCRV7uJk=",
                                    "PasswordSalt": "YTNH5Rw=",
                                    "rowguid": "130774b1-db21-4ef3-98c8-c104bcd6ed6d",
                                    "ModifiedDate": "2005-09-01 00:00:00.000"
                                },
                                {
                                    "CustomerID": "4",
                                    "NameStyle": "0",
                                    "Title": "Ms.",
                                    "FirstName": "Janet",
                                    "MiddleName": "M.",
                                    "LastName": "Gates",
                                    "Suffix": "NULL",
                                    "CompanyName": "Modular Cycle Systems",
                                    "SalesPerson": "adventure-works\\jillian0",
                                    "EmailAddress": "janet1@adventure-works.com",
                                    "Phone": "710-555-0173",
                                    "PasswordHash": "ElzTpSNbUW1Ut+L5cWlfR7MF6nBZia8WpmGaQPjLOJA=",
                                    "PasswordSalt": "nm7D5e4=",
                                    "rowguid": "ff862851-1daa-4044-be7c-3e85583c054d",
                                    "ModifiedDate": "2006-07-01 00:00:00.000"
                                },
                                {
                                    "CustomerID": "5",
                                    "NameStyle": "0",
                                    "Title": "Mr.",
                                    "FirstName": "Lucy",
                                    "MiddleName": "NULL",
                                    "LastName": "Harrington",
                                    "Suffix": "NULL",
                                    "CompanyName": "Metropolitan Sports Supply",
                                    "SalesPerson": "adventure-works\\shu0",
                                    "EmailAddress": "lucy0@adventure-works.com",
                                    "Phone": "828-555-0186",
                                    "PasswordHash": "KJqV15wsX3PG8TS5GSddp6LFFVdd3CoRftZM/tP0+R4=",
                                    "PasswordSalt": "cNFKU4w=",
                                    "rowguid": "83905bdc-6f5e-4f71-b162-c98da069f38a",
                                    "ModifiedDate": "2006-09-01 00:00:00.000"
                                },
                                {
                                    "CustomerID": "6",
                                    "NameStyle": "0",
                                    "Title": "Ms.",
                                    "FirstName": "Rosmarie",
                                    "MiddleName": "J.",
                                    "LastName": "Carroll",
                                    "Suffix": "NULL",
                                    "CompanyName": "Aerobic Exercise Company",
                                    "SalesPerson": "adventure-works\\linda3",
                                    "EmailAddress": "rosmarie0@adventure-works.com",
                                    "Phone": "244-555-0112",
                                    "PasswordHash": "OKT0scizCdIzymHHOtyJKQiC/fCILSooSZ8dQ2Y34VM=",
                                    "PasswordSalt": "ihWf50M=",
                                    "rowguid": "1a92df88-bfa2-467d-bd54-fcb9e647fdd7",
                                    "ModifiedDate": "2007-09-01 00:00:00.000"
                                },
                                {
                                    "CustomerID": "7",
                                    "NameStyle": "0",
                                    "Title": "Mr.",
                                    "FirstName": "Dominic",
                                    "MiddleName": "P.",
                                    "LastName": "Gash",
                                    "Suffix": "NULL",
                                    "CompanyName": "Associated Bikes",
                                    "SalesPerson": "adventure-works\\shu0",
                                    "EmailAddress": "dominic0@adventure-works.com",
                                    "Phone": "192-555-0173",
                                    "PasswordHash": "ZccoP/jZGQm+Xpzc7RKwDhS11YFNybwcPVRYTSNcnSg=",
                                    "PasswordSalt": "sPoUBSQ=",
                                    "rowguid": "03e9273e-b193-448e-9823-fe0c44aeed78",
                                    "ModifiedDate": "2006-07-01 00:00:00.000"
                                },
                                {
                                    "CustomerID": "10",
                                    "NameStyle": "0",
                                    "Title": "Ms.",
                                    "FirstName": "Kathleen",
                                    "MiddleName": "M.",
                                    "LastName": "Garza",
                                    "Suffix": "NULL",
                                    "CompanyName": "Rural Cycle Emporium",
                                    "SalesPerson": "adventure-works\\josé1",
                                    "EmailAddress": "kathleen0@adventure-works.com",
                                    "Phone": "150-555-0127",
                                    "PasswordHash": "Qa3aMCxNbVLGrc0b99KsbQqiVgwYDfHcsK9GZSUxcTM=",
                                    "PasswordSalt": "Ls05W3g=",
                                    "rowguid": "cdb6698d-2ff1-4fba-8f22-60ad1d11dabd",
                                    "ModifiedDate": "2006-09-01 00:00:00.000"
                                },
                                {
                                    "CustomerID": "11",
                                    "NameStyle": "0",
                                    "Title": "Ms.",
                                    "FirstName": "Katherine",
                                    "MiddleName": "NULL",
                                    "LastName": "Harding",
                                    "Suffix": "NULL",
                                    "CompanyName": "Sharp Bikes",
                                    "SalesPerson": "adventure-works\\josé1",
                                    "EmailAddress": "katherine0@adventure-works.com",
                                    "Phone": "926-555-0159",
                                    "PasswordHash": "uRlorVzDGNJIX9I+ehTlRK+liT4UKRgWhApJgUMC2d4=",
                                    "PasswordSalt": "jpHKbqE=",
                                    "rowguid": "750f3495-59c4-48a0-80e1-e37ec60e77d9",
                                    "ModifiedDate": "2005-08-01 00:00:00.000"
                                },
                                {
                                    "CustomerID": "12",
                                    "NameStyle": "0",
                                    "Title": "Mr.",
                                    "FirstName": "Johnny",
                                    "MiddleName": "A.",
                                    "LastName": "Caprio",
                                    "Suffix": "Jr.",
                                    "CompanyName": "Bikes and Motorbikes",
                                    "SalesPerson": "adventure-works\\garrett1",
                                    "EmailAddress": "johnny0@adventure-works.com",
                                    "Phone": "112-555-0191",
                                    "PasswordHash": "jtF9jBoFYeJTaET7x+eJDkd7BzMz15Wo9odbGPBaIak=",
                                    "PasswordSalt": "wVLnvHo=",
                                    "rowguid": "947bcaf1-1f32-44f3-b9c3-0011f95fbe54",
                                    "ModifiedDate": "2006-08-01 00:00:00.000"
                                }
                            ]
                        },
                        "text/html": [
                            "<table>",
                            "<tr><th>CustomerID</th><th>NameStyle</th><th>Title</th><th>FirstName</th><th>MiddleName</th><th>LastName</th><th>Suffix</th><th>CompanyName</th><th>SalesPerson</th><th>EmailAddress</th><th>Phone</th><th>PasswordHash</th><th>PasswordSalt</th><th>rowguid</th><th>ModifiedDate</th></tr>",
                            "<tr><td>1</td><td>0</td><td>Mr.</td><td>Orlando</td><td>N.</td><td>Gee</td><td>NULL</td><td>A Bike Store</td><td>adventure-works\\pamela0</td><td>orlando0@adventure-works.com</td><td>245-555-0173</td><td>L/Rlwxzp4w7RWmEgXX+/A7cXaePEPcp+KwQhl2fJL7w=</td><td>1KjXYs4=</td><td>3f5ae95e-b87d-4aed-95b4-c3797afcb74f</td><td>2005-08-01 00:00:00.000</td></tr>",
                            "<tr><td>2</td><td>0</td><td>Mr.</td><td>Keith</td><td>NULL</td><td>Harris</td><td>NULL</td><td>Progressive Sports</td><td>adventure-works\\david8</td><td>keith0@adventure-works.com</td><td>170-555-0127</td><td>YPdtRdvqeAhj6wyxEsFdshBDNXxkCXn+CRgbvJItknw=</td><td>fs1ZGhY=</td><td>e552f657-a9af-4a7d-a645-c429d6e02491</td><td>2006-08-01 00:00:00.000</td></tr>",
                            "<tr><td>3</td><td>0</td><td>Ms.</td><td>Donna</td><td>F.</td><td>Carreras</td><td>NULL</td><td>Advanced Bike Components</td><td>adventure-works\\jillian0</td><td>donna0@adventure-works.com</td><td>279-555-0130</td><td>LNoK27abGQo48gGue3EBV/UrlYSToV0/s87dCRV7uJk=</td><td>YTNH5Rw=</td><td>130774b1-db21-4ef3-98c8-c104bcd6ed6d</td><td>2005-09-01 00:00:00.000</td></tr>",
                            "<tr><td>4</td><td>0</td><td>Ms.</td><td>Janet</td><td>M.</td><td>Gates</td><td>NULL</td><td>Modular Cycle Systems</td><td>adventure-works\\jillian0</td><td>janet1@adventure-works.com</td><td>710-555-0173</td><td>ElzTpSNbUW1Ut+L5cWlfR7MF6nBZia8WpmGaQPjLOJA=</td><td>nm7D5e4=</td><td>ff862851-1daa-4044-be7c-3e85583c054d</td><td>2006-07-01 00:00:00.000</td></tr>",
                            "<tr><td>5</td><td>0</td><td>Mr.</td><td>Lucy</td><td>NULL</td><td>Harrington</td><td>NULL</td><td>Metropolitan Sports Supply</td><td>adventure-works\\shu0</td><td>lucy0@adventure-works.com</td><td>828-555-0186</td><td>KJqV15wsX3PG8TS5GSddp6LFFVdd3CoRftZM/tP0+R4=</td><td>cNFKU4w=</td><td>83905bdc-6f5e-4f71-b162-c98da069f38a</td><td>2006-09-01 00:00:00.000</td></tr>",
                            "<tr><td>6</td><td>0</td><td>Ms.</td><td>Rosmarie</td><td>J.</td><td>Carroll</td><td>NULL</td><td>Aerobic Exercise Company</td><td>adventure-works\\linda3</td><td>rosmarie0@adventure-works.com</td><td>244-555-0112</td><td>OKT0scizCdIzymHHOtyJKQiC/fCILSooSZ8dQ2Y34VM=</td><td>ihWf50M=</td><td>1a92df88-bfa2-467d-bd54-fcb9e647fdd7</td><td>2007-09-01 00:00:00.000</td></tr>",
                            "<tr><td>7</td><td>0</td><td>Mr.</td><td>Dominic</td><td>P.</td><td>Gash</td><td>NULL</td><td>Associated Bikes</td><td>adventure-works\\shu0</td><td>dominic0@adventure-works.com</td><td>192-555-0173</td><td>ZccoP/jZGQm+Xpzc7RKwDhS11YFNybwcPVRYTSNcnSg=</td><td>sPoUBSQ=</td><td>03e9273e-b193-448e-9823-fe0c44aeed78</td><td>2006-07-01 00:00:00.000</td></tr>",
                            "<tr><td>10</td><td>0</td><td>Ms.</td><td>Kathleen</td><td>M.</td><td>Garza</td><td>NULL</td><td>Rural Cycle Emporium</td><td>adventure-works\\josé1</td><td>kathleen0@adventure-works.com</td><td>150-555-0127</td><td>Qa3aMCxNbVLGrc0b99KsbQqiVgwYDfHcsK9GZSUxcTM=</td><td>Ls05W3g=</td><td>cdb6698d-2ff1-4fba-8f22-60ad1d11dabd</td><td>2006-09-01 00:00:00.000</td></tr>",
                            "<tr><td>11</td><td>0</td><td>Ms.</td><td>Katherine</td><td>NULL</td><td>Harding</td><td>NULL</td><td>Sharp Bikes</td><td>adventure-works\\josé1</td><td>katherine0@adventure-works.com</td><td>926-555-0159</td><td>uRlorVzDGNJIX9I+ehTlRK+liT4UKRgWhApJgUMC2d4=</td><td>jpHKbqE=</td><td>750f3495-59c4-48a0-80e1-e37ec60e77d9</td><td>2005-08-01 00:00:00.000</td></tr>",
                            "<tr><td>12</td><td>0</td><td>Mr.</td><td>Johnny</td><td>A.</td><td>Caprio</td><td>Jr.</td><td>Bikes and Motorbikes</td><td>adventure-works\\garrett1</td><td>johnny0@adventure-works.com</td><td>112-555-0191</td><td>jtF9jBoFYeJTaET7x+eJDkd7BzMz15Wo9odbGPBaIak=</td><td>wVLnvHo=</td><td>947bcaf1-1f32-44f3-b9c3-0011f95fbe54</td><td>2006-08-01 00:00:00.000</td></tr>",
                            "</table>"
                        ]
                    }
                }
            ],
            "execution_count": 1
        }
    ]
}